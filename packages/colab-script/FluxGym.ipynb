{
  "cells": [
    {
      "cell_type": "markdown",
      "source": [
        "# **FluxGym Colab**"
      ],
      "metadata": {
        "id": "_I-HADozm4sB"
      }
    },
    {
      "cell_type": "markdown",
      "source": [
        "**Important Notice**\n",
        "\n",
        "Please be aware that this Colab notebook is a work in progress. Model training can be time-consuming, and you may want to consider a Colab Pro membership for extensive training sessions.\n",
        "\n",
        "We are working on improving training efficiency and will update the notebook as advancements are made from the original developers. Thank you for your understanding!"
      ],
      "metadata": {
        "id": "LmV1zQMole6d"
      }
    },
    {
      "cell_type": "markdown",
      "source": [
        "# **Git Clone the Flux Gym and Kohya-SS sd-scripts Github Repository**\n",
        "\n",
        "\n",
        "\n"
      ],
      "metadata": {
        "id": "A-39F5xHjJ2m"
      }
    },
    {
      "cell_type": "code",
      "execution_count": null,
      "metadata": {
        "collapsed": true,
        "id": "lU6VoX3zs66v"
      },
      "outputs": [],
      "source": [
        "!git clone https://github.com/TheLocalLab/fluxgym-Colab.git"
      ]
    },
    {
      "cell_type": "code",
      "execution_count": null,
      "metadata": {
        "collapsed": true,
        "id": "F1U5UZJltP30"
      },
      "outputs": [],
      "source": [
        "%cd /content/fluxgym-Colab/\n",
        "!git clone -b sd3 https://github.com/kohya-ss/sd-scripts"
      ]
    },
    {
      "cell_type": "markdown",
      "source": [
        "# **Install each projects dependencies**"
      ],
      "metadata": {
        "id": "KQLG4s_5j5HM"
      }
    },
    {
      "cell_type": "code",
      "execution_count": null,
      "metadata": {
        "collapsed": true,
        "id": "eD7Yf7B5tWVa"
      },
      "outputs": [],
      "source": [
        "%cd /content/fluxgym-Colab/sd-scripts/\n",
        "!pip install -r requirements.txt"
      ]
    },
    {
      "cell_type": "code",
      "execution_count": null,
      "metadata": {
        "id": "keb-H6-tu6d8"
      },
      "outputs": [],
      "source": [
        "%cd /content/fluxgym-Colab/\n",
        "!pip install -r requirements.txt"
      ]
    },
    {
      "cell_type": "code",
      "execution_count": null,
      "metadata": {
        "id": "NxoJxm3zuBDL",
        "collapsed": true
      },
      "outputs": [],
      "source": [
        "!pip install --pre torch==2.4 torchvision torchaudio --index-url https://download.pytorch.org/whl/cu121"
      ]
    },
    {
      "cell_type": "markdown",
      "source": [
        "# **Download the models needed for training**"
      ],
      "metadata": {
        "id": "3qsySAjNj-PG"
      }
    },
    {
      "cell_type": "code",
      "execution_count": null,
      "metadata": {
        "id": "lwZGQcOD5Rpi",
        "collapsed": true
      },
      "outputs": [],
      "source": [
        "!wget -O /content/fluxgym-Colab/models/unet/flux1-dev-fp8.safetensors https://huggingface.co/Kijai/flux-fp8/resolve/main/flux1-dev-fp8.safetensors\n",
        "!wget -O /content/fluxgym-Colab/models/clip/clip_l.safetensors https://huggingface.co/comfyanonymous/flux_text_encoders/resolve/main/clip_l.safetensors?download=true\n",
        "!wget -O /content/fluxgym-Colab/models/clip/t5xxl_fp8.safetensors https://huggingface.co/comfyanonymous/flux_text_encoders/resolve/main/t5xxl_fp8_e4m3fn.safetensors?download=true\n",
        "!wget -O /content/fluxgym-Colab/models/vae/ae.sft https://huggingface.co/cocktailpeanut/xulf-dev/resolve/main/ae.sft?download=true"
      ]
    },
    {
      "cell_type": "markdown",
      "source": [
        "# **Reinstall Gradio(older versions may cause issues)**"
      ],
      "metadata": {
        "id": "hCY_RrkNvkoO"
      }
    },
    {
      "cell_type": "code",
      "source": [
        "!pip uninstall gradio\n",
        "!pip install gradio==5.23.2"
      ],
      "metadata": {
        "id": "RdlLnQ9KvYrp"
      },
      "execution_count": null,
      "outputs": []
    },
    {
      "cell_type": "markdown",
      "source": [
        "# **Start the web server and click the share link**"
      ],
      "metadata": {
        "id": "Tef5XIaQksXa"
      }
    },
    {
      "cell_type": "code",
      "execution_count": null,
      "metadata": {
        "id": "mzJMy5sjuICj"
      },
      "outputs": [],
      "source": [
        "!python app.py"
      ]
    },
    {
      "cell_type": "markdown",
      "source": [
        "# **Download the completed Loras from the fluxgym-Colab/outputs directory. Copy and paste the models URL in the filename = 'Lora path here'**"
      ],
      "metadata": {
        "id": "3tQM2tYxk00i"
      }
    },
    {
      "cell_type": "code",
      "source": [
        "from google.colab import files\n",
        "\n",
        "filename = '/content/fluxgym-Colab/outputs/sarah-lora.safetensors'\n",
        "files.download(filename)"
      ],
      "metadata": {
        "colab": {
          "base_uri": "https://localhost:8080/",
          "height": 17
        },
        "id": "8obna2u3ssGv",
        "outputId": "88252342-d118-4cf8-c348-6b08d1cfc4ce"
      },
      "execution_count": null,
      "outputs": [
        {
          "output_type": "display_data",
          "data": {
            "text/plain": [
              "<IPython.core.display.Javascript object>"
            ],
            "application/javascript": [
              "\n",
              "    async function download(id, filename, size) {\n",
              "      if (!google.colab.kernel.accessAllowed) {\n",
              "        return;\n",
              "      }\n",
              "      const div = document.createElement('div');\n",
              "      const label = document.createElement('label');\n",
              "      label.textContent = `Downloading \"${filename}\": `;\n",
              "      div.appendChild(label);\n",
              "      const progress = document.createElement('progress');\n",
              "      progress.max = size;\n",
              "      div.appendChild(progress);\n",
              "      document.body.appendChild(div);\n",
              "\n",
              "      const buffers = [];\n",
              "      let downloaded = 0;\n",
              "\n",
              "      const channel = await google.colab.kernel.comms.open(id);\n",
              "      // Send a message to notify the kernel that we're ready.\n",
              "      channel.send({})\n",
              "\n",
              "      for await (const message of channel.messages) {\n",
              "        // Send a message to notify the kernel that we're ready.\n",
              "        channel.send({})\n",
              "        if (message.buffers) {\n",
              "          for (const buffer of message.buffers) {\n",
              "            buffers.push(buffer);\n",
              "            downloaded += buffer.byteLength;\n",
              "            progress.value = downloaded;\n",
              "          }\n",
              "        }\n",
              "      }\n",
              "      const blob = new Blob(buffers, {type: 'application/binary'});\n",
              "      const a = document.createElement('a');\n",
              "      a.href = window.URL.createObjectURL(blob);\n",
              "      a.download = filename;\n",
              "      div.appendChild(a);\n",
              "      a.click();\n",
              "      div.remove();\n",
              "    }\n",
              "  "
            ]
          },
          "metadata": {}
        },
        {
          "output_type": "display_data",
          "data": {
            "text/plain": [
              "<IPython.core.display.Javascript object>"
            ],
            "application/javascript": [
              "download(\"download_523ed405-0608-429e-b78f-301916bfde7c\", \"sarah-lora.safetensors\", 39757200)"
            ]
          },
          "metadata": {}
        }
      ]
    }
  ],
  "metadata": {
    "colab": {
      "provenance": [],
      "gpuType": "T4"
    },
    "kernelspec": {
      "display_name": "Python 3",
      "name": "python3"
    },
    "language_info": {
      "name": "python"
    },
    "accelerator": "GPU"
  },
  "nbformat": 4,
  "nbformat_minor": 0
}